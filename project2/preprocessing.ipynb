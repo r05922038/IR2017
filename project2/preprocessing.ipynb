{
 "cells": [
  {
   "cell_type": "code",
   "execution_count": 17,
   "metadata": {
    "collapsed": false
   },
   "outputs": [],
   "source": [
    "stopwords = [line.strip() for line in open('stopword.txt', 'r')]+['，', '。', '、', '；', '：', '？', '「', '」','『','』','●','…']"
   ]
  },
  {
   "cell_type": "code",
   "execution_count": 18,
   "metadata": {
    "collapsed": true
   },
   "outputs": [],
   "source": [
    "dict_={'士隱':'甄士隱','岫煙':'邢岫煙','紹祖':'孫紹祖','迎春':'賈迎春','金桂':'夏金桂','寶玉':'賈寶玉',\n",
    "      '寶釵':'薛寶釵','守中':'李守中','可卿':'秦可卿','之孝':'林之孝','世仁':'卜世仁','紫英':'馮紫英',\n",
    "       '尚榮':'賴尚榮','元春':'賈元春','惜春':'賈惜春','探春':'賈探春','黛玉':'林黛玉','湘雲':'史湘雲',\n",
    "      '熙鳳':'王熙鳳','若錦':'張若錦','亦華':'趙亦華','湘蓮':'柳湘蓮','子騰':'王子騰','子勝':'王子勝',\n",
    "      '德全':'邢德全','巧姐':'賈巧姐','天棟':'趙天棟','友士':'張友士','代善':'賈代善','代儒':'賈代儒',\n",
    "       '代化':'賈代化','如海':'林如海','可卿':'秦可卿','寶琴':'薛寶琴','自芳':'花自芳','秋芳':'傅秋芳',\n",
    "      '文翔':'金文翔','世仁':'卜世仁','雨村':'賈雨村','繼宗':'牛繼宗','瑞文':'陳瑞文','孝康':'侯孝康',\n",
    "      '曉明':'侯曉明','光珠':'石光珠','子寧':'蔣子寧','建輝':'戚建輝','代修':'賈代修'}"
   ]
  },
  {
   "cell_type": "code",
   "execution_count": 22,
   "metadata": {
    "collapsed": false
   },
   "outputs": [],
   "source": [
    "testfile='Dream_of_the_Red_Chamber_seg'\n",
    "f = open(testfile+'_preprocessing.txt', 'w')\n",
    "with open(testfile+'.txt', 'r') as file_:\n",
    "    for line in file_:\n",
    "        new_words=[]\n",
    "        for word in line.split():\n",
    "            word=word.split('_')[0]\n",
    "            if word not in stopwords and not word.isdigit():\n",
    "                if word in dict_:\n",
    "                    word=dict_[word]\n",
    "                new_words.append(word)\n",
    "        f.write(\" \".join(new_words)+'\\n')\n",
    "f.close()"
   ]
  },
  {
   "cell_type": "code",
   "execution_count": null,
   "metadata": {
    "collapsed": true
   },
   "outputs": [],
   "source": []
  }
 ],
 "metadata": {
  "kernelspec": {
   "display_name": "Python 2",
   "language": "python",
   "name": "python2"
  },
  "language_info": {
   "codemirror_mode": {
    "name": "ipython",
    "version": 2
   },
   "file_extension": ".py",
   "mimetype": "text/x-python",
   "name": "python",
   "nbconvert_exporter": "python",
   "pygments_lexer": "ipython2",
   "version": "2.7.12"
  }
 },
 "nbformat": 4,
 "nbformat_minor": 1
}
